{
  "nbformat": 4,
  "nbformat_minor": 0,
  "metadata": {
    "colab": {
      "provenance": [],
      "authorship_tag": "ABX9TyP0ZMYzz7Ti8oUlgvO2Slgg",
      "include_colab_link": true
    },
    "kernelspec": {
      "name": "python3",
      "display_name": "Python 3"
    },
    "language_info": {
      "name": "python"
    }
  },
  "cells": [
    {
      "cell_type": "markdown",
      "metadata": {
        "id": "view-in-github",
        "colab_type": "text"
      },
      "source": [
        "<a href=\"https://colab.research.google.com/github/ZahraEk/Digital-Image-Proccesing/blob/main/basic_background_subtractor.ipynb\" target=\"_parent\"><img src=\"https://colab.research.google.com/assets/colab-badge.svg\" alt=\"Open In Colab\"/></a>"
      ]
    },
    {
      "cell_type": "code",
      "execution_count": null,
      "metadata": {
        "id": "Vb4qqc0PbdQx"
      },
      "outputs": [],
      "source": [
        "import cv2\n",
        "from google.colab.patches import cv2_imshow\n",
        "\n",
        "OPENCV_MAJOR_VERSION = int(cv2.__version__.split('.')[0])\n",
        "\n",
        "BLUR_RADIUS = 21\n",
        "erode_kernel = cv2.getStructuringElement(cv2.MORPH_ELLIPSE, (5, 5))\n",
        "dilate_kernel = cv2.getStructuringElement(cv2.MORPH_ELLIPSE, (9, 9))\n",
        "\n",
        "cap = cv2.VideoCapture(\"drive/MyDrive/pedestrians.avi\")\n",
        "\n",
        "# Capture several frames to allow the camera's autoexposure to adjust.\n",
        "for i in range(10):\n",
        "    success, frame = cap.read()\n",
        "if not success:\n",
        "    exit(1)\n",
        "\n",
        "gray_background = cv2.cvtColor(frame, cv2.COLOR_BGR2GRAY)\n",
        "gray_background = cv2.GaussianBlur(gray_background,\n",
        "                                   (BLUR_RADIUS, BLUR_RADIUS), 0)\n",
        "\n",
        "success, frame = cap.read()\n",
        "while success:\n",
        "\n",
        "    gray_frame = cv2.cvtColor(frame, cv2.COLOR_BGR2GRAY)\n",
        "    gray_frame = cv2.GaussianBlur(gray_frame,\n",
        "                                  (BLUR_RADIUS, BLUR_RADIUS), 0)\n",
        "\n",
        "    diff = cv2.absdiff(gray_background, gray_frame)\n",
        "    _, thresh = cv2.threshold(diff, 40, 255, cv2.THRESH_BINARY)\n",
        "    cv2.erode(thresh, erode_kernel, thresh, iterations=2)\n",
        "    cv2.dilate(thresh, dilate_kernel, thresh, iterations=2)\n",
        "\n",
        "    if OPENCV_MAJOR_VERSION >= 4:\n",
        "        # OpenCV 4 or a later version is being used.\n",
        "        contours, hier = cv2.findContours(thresh, cv2.RETR_EXTERNAL,\n",
        "                                          cv2.CHAIN_APPROX_SIMPLE)\n",
        "    else:\n",
        "        # OpenCV 3 or an earlier version is being used.\n",
        "        # cv2.findContours has an extra return value.\n",
        "        # The extra return value is the thresholded image, which is\n",
        "        # unchanged, so we can ignore it.\n",
        "        _, contours, hier = cv2.findContours(thresh, cv2.RETR_EXTERNAL,\n",
        "                                             cv2.CHAIN_APPROX_SIMPLE)\n",
        "\n",
        "    for c in contours:\n",
        "        if cv2.contourArea(c) > 4000:\n",
        "            x, y, w, h = cv2.boundingRect(c)\n",
        "            cv2.rectangle(frame, (x, y), (x+w, y+h), (255, 255, 0), 2)\n",
        "\n",
        "    cv2_imshow(diff)\n",
        "    cv2_imshow(thresh)\n",
        "    cv2_imshow(frame)\n",
        "\n",
        "    k = cv2.waitKey(1)\n",
        "    if k == 27:  # Escape\n",
        "        break\n",
        "\n",
        "    success, frame = cap.read()"
      ]
    }
  ]
}