{
  "nbformat": 4,
  "nbformat_minor": 0,
  "metadata": {
    "colab": {
      "provenance": [],
      "mount_file_id": "1dmvvjsmYS65UDMOhW9bGnocjam6b6Lsy",
      "authorship_tag": "ABX9TyMlFvkP6PLw/+k441c5wHRp",
      "include_colab_link": true
    },
    "kernelspec": {
      "name": "python3",
      "display_name": "Python 3"
    },
    "language_info": {
      "name": "python"
    }
  },
  "cells": [
    {
      "cell_type": "markdown",
      "metadata": {
        "id": "view-in-github",
        "colab_type": "text"
      },
      "source": [
        "<a href=\"https://colab.research.google.com/github/ZahraEk/Digital-Image-Proccesing/blob/main/DIP_EXC1_Q1.ipynb\" target=\"_parent\"><img src=\"https://colab.research.google.com/assets/colab-badge.svg\" alt=\"Open In Colab\"/></a>"
      ]
    },
    {
      "cell_type": "markdown",
      "source": [
        "import Required libraries :"
      ],
      "metadata": {
        "id": "Klj6jFOnVQtd"
      }
    },
    {
      "cell_type": "code",
      "source": [
        "import cv2\n",
        "import numpy as np\n",
        "from google.colab.patches import cv2_imshow"
      ],
      "metadata": {
        "id": "gsCviagsJvJc"
      },
      "execution_count": null,
      "outputs": []
    },
    {
      "cell_type": "markdown",
      "source": [
        "Create empty image & Draw circles :"
      ],
      "metadata": {
        "id": "eMdjG7xEYCLW"
      }
    },
    {
      "cell_type": "code",
      "execution_count": null,
      "metadata": {
        "id": "ELQFSZNKwDkS",
        "colab": {
          "base_uri": "https://localhost:8080/",
          "height": 529
        },
        "outputId": "0411ec7b-5bbe-477d-eaf5-88dc67b37a6e"
      },
      "outputs": [
        {
          "output_type": "display_data",
          "data": {
            "text/plain": [
              "<PIL.Image.Image image mode=RGB size=512x512 at 0x7FDE33D71BD0>"
            ],
            "image/png": "[encoded data removed]"
          },
          "metadata": {}
        }
      ],
      "source": [
        "#create empty image\n",
        "img = np.zeros((512,512,3), dtype=np.uint8)\n",
        "\n",
        "#center of circles\n",
        "x1, y1 = 200, 200\n",
        "x2, y2 = 264, 400\n",
        "x3, y3 = 200, 400 \n",
        "x4, y4 = 248, 300\n",
        "x5, y5 = 200, 300\n",
        "x6, y6 = 232, 200 \n",
        "\n",
        "radius = 16\n",
        "\n",
        "#draw circles\n",
        "cv2.circle(img, (x1, y1), radius, (255, 0, 0), 2)\n",
        "cv2.circle(img, (x2, y2), radius, (0, 255, 0), 2)\n",
        "cv2.circle(img, (x3, y3), radius, (0, 0, 255), 2)\n",
        "cv2.circle(img, (x4, y4), radius, (255, 255, 0), 2)\n",
        "cv2.circle(img, (x5, y5), radius, (0, 255, 255), 2)\n",
        "cv2.circle(img, (x6, y6), radius, (255, 255, 255), 2)\n",
        "\n",
        "#show image\n",
        "cv2_imshow(img)\n",
        "\n",
        "#save image\n",
        "cv2.imwrite('drive/MyDrive/DIP_EXC1/Q1/Q1_circles.jpg', img)\n",
        "\n",
        "cv2.waitKey(0)\n",
        "cv2.destroyAllWindows()"
      ]
    },
    {
      "cell_type": "markdown",
      "source": [
        "Put text on image :"
      ],
      "metadata": {
        "id": "nQgwuaqJYf7-"
      }
    },
    {
      "cell_type": "code",
      "source": [
        "img= cv2.putText(img, 'Zahra Ebadi', (50, 50), cv2.FONT_HERSHEY_COMPLEX, 1, (255, 0, 255), 2, cv2.LINE_4)\n",
        "\n",
        "#show image\n",
        "cv2_imshow(img)\n",
        "\n",
        "#save image\n",
        "cv2.imwrite('drive/MyDrive/DIP_EXC1/Q1/Q1_put text.jpg', img)\n",
        "\n",
        "cv2.waitKey(0)\n",
        "cv2.destroyAllWindows()"
      ],
      "metadata": {
        "colab": {
          "base_uri": "https://localhost:8080/",
          "height": 529
        },
        "id": "zz0F1MvaRCNb",
        "outputId": "6f084aee-a4fb-4f9c-da37-f66c9e445d10"
      },
      "execution_count": null,
      "outputs": [
        {
          "output_type": "display_data",
          "data": {
            "text/plain": [
              "<PIL.Image.Image image mode=RGB size=512x512 at 0x7FDE33D725F0>"
            ],
            "image/png": "[encoded data removed]"
          },
          "metadata": {}
        }
      ]
    }
  ]
}