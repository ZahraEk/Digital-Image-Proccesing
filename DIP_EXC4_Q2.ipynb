{
  "nbformat": 4,
  "nbformat_minor": 0,
  "metadata": {
    "colab": {
      "provenance": [],
      "mount_file_id": "16I0s9ZEj5e9dAbEd-wb0XvyICN0pB5a4",
      "authorship_tag": "ABX9TyNUH8/R9eSHG+NCvs/kRk1d",
      "include_colab_link": true
    },
    "kernelspec": {
      "name": "python3",
      "display_name": "Python 3"
    },
    "language_info": {
      "name": "python"
    }
  },
  "cells": [
    {
      "cell_type": "markdown",
      "metadata": {
        "id": "view-in-github",
        "colab_type": "text"
      },
      "source": [
        "<a href=\"https://colab.research.google.com/github/ZahraEk/Digital-Image-Proccesing/blob/main/DIP_EXC4_Q2.ipynb\" target=\"_parent\"><img src=\"https://colab.research.google.com/assets/colab-badge.svg\" alt=\"Open In Colab\"/></a>"
      ]
    },
    {
      "cell_type": "markdown",
      "source": [
        "import Required libraries :"
      ],
      "metadata": {
        "id": "HRoFDZHyBRAy"
      }
    },
    {
      "cell_type": "code",
      "execution_count": 1,
      "metadata": {
        "id": "taUotZDRA3xn"
      },
      "outputs": [],
      "source": [
        "import cv2\n",
        "import numpy as np\n",
        "import matplotlib.pyplot as plt\n",
        "from google.colab.patches import cv2_imshow"
      ]
    },
    {
      "cell_type": "markdown",
      "source": [
        "### Q2 :"
      ],
      "metadata": {
        "id": "ufMn48IlCU1C"
      }
    },
    {
      "cell_type": "markdown",
      "source": [
        "\n",
        "\n",
        "**1. Intensity Segmentation method :**\n",
        "\n",
        "\n"
      ],
      "metadata": {
        "id": "ejwZ5HbcCYUa"
      }
    },
    {
      "cell_type": "code",
      "source": [
        "# Read the image\n",
        "img = cv2.imread(\"drive/MyDrive/DIP_EXC4/Q2/Q2_img.jpg\", 0)\n",
        "\n",
        "# Apply intensity segmentation\n",
        "_, segmented_img = cv2.threshold(img, 100, 255, cv2.THRESH_BINARY + cv2.THRESH_OTSU)\n",
        "    \n",
        "# Create a blank RGB image\n",
        "height, width = img.shape\n",
        "colorized_img = np.zeros((height, width, 3), dtype=np.uint8)\n",
        "\n",
        "# Iterate through each pixel of the grayscale image and assign color \n",
        "for i in range(img.shape[0]):\n",
        "    for j in range(img.shape[1]):\n",
        "\n",
        "        if segmented_img[i, j] == 255:\n",
        "            colorized_img[i, j] = (255, 255, 255)  # Set pixel color for foreground\n",
        "\n",
        "        else:\n",
        "            colorized_img[i, j] = (150, 200, 255)  # Set pixel color for background\n",
        "\n",
        "# Show the colorized image\n",
        "cv2_imshow(colorized_img)\n",
        "\n",
        "cv2.waitKey(0)\n",
        "cv2.destroyAllWindows()"
      ],
      "metadata": {
        "colab": {
          "base_uri": "https://localhost:8080/",
          "height": 493
        },
        "id": "ZbsQOiQZE7s3",
        "outputId": "70e6fcf2-7cea-4034-de55-2ed1e1fce5df"
      },
      "execution_count": 34,
      "outputs": [
        {
          "output_type": "display_data",
          "data": {
            "text/plain": [
              "<PIL.Image.Image image mode=RGB size=526x476 at 0x7F70B42A6590>"
            ],
            "image/png": "[encoded data removed]"
          },
          "metadata": {}
        }
      ]
    },
    {
      "cell_type": "markdown",
      "source": [
        "\n",
        "**2. Transformation method :**\n",
        "\n"
      ],
      "metadata": {
        "id": "Hhnv2FiaIu6C"
      }
    },
    {
      "cell_type": "code",
      "source": [],
      "metadata": {
        "id": "BysVK4JdQOkc"
      },
      "execution_count": 50,
      "outputs": []
    }
  ]
}